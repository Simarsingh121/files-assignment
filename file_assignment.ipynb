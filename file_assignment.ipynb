{
  "nbformat": 4,
  "nbformat_minor": 0,
  "metadata": {
    "colab": {
      "provenance": []
    },
    "kernelspec": {
      "name": "python3",
      "display_name": "Python 3"
    },
    "language_info": {
      "name": "python"
    }
  },
  "cells": [
    {
      "cell_type": "code",
      "execution_count": null,
      "metadata": {
        "id": "Xb9_9XljvaE7"
      },
      "outputs": [],
      "source": []
    },
    {
      "cell_type": "markdown",
      "source": [
        "# Files, exceptional handling, logging and memory management Questions\n",
        "\n",
        "1. What is the difference between interpreted and compiled languages?\n",
        "\n",
        "  - Interpreted languages (like Python) are executed line by line by an interpreter, so they run directly without creating a separate machine code file.\n",
        "\n",
        "- Compiled languages (like C++) are first converted into machine code by a compiler before execution, which usually makes them faster but less flexible.\n",
        "\n",
        "2. What is exception handling in Python?\n",
        "- Exception handling in Python is a way to manage errors in a program without stopping its execution. It uses keywords like try, except, else, and finally to catch and handle errors.\n",
        "\n",
        "3. What is the purpose of the finally block in exception handling?\n",
        " - The finally block is used to write code that should run no matter what happens, whether an exception occurs or not. It’s often used for cleanup tasks like closing a file or releasing resources.\n",
        "\n",
        "4. What is logging in Python?\n",
        " - Logging in Python is a way to keep track of events that happen when a program runs. Instead of just using print(), logging provides different levels (info, warning, error, etc.) and can save messages to files for debugging and monitoring.\n",
        "\n",
        "5. What is the significance of the __del__ method in Python?\n",
        "- The __del__ method is a destructor in Python. It gets called automatically when an object is about to be destroyed, and it’s often used to release resources like closing files or network connections.\n",
        "\n",
        "6. What is the difference between import and from ... import in Python?\n",
        "\n",
        "- import module brings in the entire module, and you access functions with module.function().\n",
        "\n",
        "- from module import function brings in only specific functions or classes directly, so you can use them without the module name.\n",
        "\n",
        "7. How can you handle multiple exceptions in Python?\n",
        "- You can handle multiple exceptions by writing multiple except blocks for different error types, or by grouping them in a single block using parentheses.\n",
        "\n",
        "8. What is the purpose of the with statement when handling files in Python?\n",
        "- The with statement is used to handle files safely. It automatically closes the file once the block of code is done, even if an error happens, so you don’t have to manually call file.close().\n",
        "\n",
        "9. What is the difference between multithreading and multiprocessing?\n",
        "\n",
        "- Multithreading uses multiple threads within the same process, so they share memory but run tasks concurrently.\n",
        "\n",
        "- multiprocessing creates separate processes, each with its own memory space, allowing true parallel execution on multiple CPU cores.\n",
        "\n",
        "10. What are the advantages of using logging in a program?\n",
        "- Logging helps in debugging, monitoring program behavior, keeping records of errors, and tracking user activities. Unlike print(), logs can be stored in files and set at different levels of importance.\n",
        "\n",
        "11. What is memory management in Python?\n",
        "- Memory management in Python refers to how Python allocates and frees memory while a program runs. It includes automatic garbage collection to clean up unused objects.\n",
        "\n",
        "12. What are the basic steps involved in exception handling in Python?\n",
        "\n",
        "- Wrap risky code in a try block.\n",
        "\n",
        "- Catch errors with an except block and\n",
        "Optionally use else to run code if no errors occur.\n",
        "\n",
        "- Use finally to run cleanup code regardless of errors.\n",
        "\n",
        "13. Why is memory management important in Python?\n",
        "- It prevents memory leaks, ensures efficient use of resources, and keeps programs running smoothly without crashing or slowing down.\n",
        "\n",
        "14. What is the role of try and except in exception handling?\n",
        "\n",
        "- try: contains code that might raise an error.\n",
        "\n",
        "- except: catches the error and lets the program recover instead of crashing.\n",
        "\n",
        "15. How does Python's garbage collection system work?\n",
        "- Python uses reference counting and a garbage collector. When an object has no references left, it’s automatically destroyed, freeing up memory.\n",
        "\n",
        "16. What is the purpose of the else block in exception handling?\n",
        "- The else block runs only if no exception occurs in the try block. It’s useful for code that should only run when everything goes fine.\n",
        "\n",
        "17. What are the common logging levels in Python?\n",
        "The main levels are:\n",
        "\n",
        "- DEBUG\n",
        "\n",
        "- INFO\n",
        "\n",
        "- WARNING\n",
        "\n",
        "- ERROR\n",
        "\n",
        "- CRITICAL\n",
        "\n",
        "18. What is the difference between os.fork() and multiprocessing in Python?\n",
        "\n",
        "- os.fork() works only on Unix-based systems and directly creates a new process.\n",
        "\n",
        "- The multiprocessing module is cross-platform and provides a higher-level, more flexible way to work with processes.\n",
        "\n",
        "19. What is the importance of closing a file in Python?\n",
        "- Closing a file ensures that changes are saved, system resources are released, and data is not corrupted.\n",
        "\n",
        "20. What is the difference between file.read() and file.readline() in Python?\n",
        "\n",
        "- file.read() reads the entire file (or a given number of characters).\n",
        "\n",
        "- file.readline() reads only one line at a time.\n",
        "\n",
        "21. What is the logging module in Python used for?\n",
        "- The logging module is used to record messages about program execution. It helps in debugging and keeping logs for analysis.\n",
        "\n",
        "22. What is the os module in Python used for in file handling?\n",
        "- The os module allows interaction with the operating system, like creating, removing, or checking files and directories.\n",
        "\n",
        "23. What are the challenges associated with memory management in Python?\n",
        "- Challenges include handling circular references, large memory consumption by heavy objects, and managing performance with automatic garbage collection.\n",
        "\n",
        "24. How do you raise an exception manually in Python?\n",
        "- You can raise an exception manually using the raise keyword. Example:\n",
        "\n",
        "- raise ValueError(\"Invalid input\")\n",
        "\n",
        "\n",
        "25. Why is it important to use multithreading in certain applications?\n",
        "- Multithreading is useful when tasks are I/O-bound (like downloading files or handling user input). It makes programs more responsive by running tasks concurrently"
      ],
      "metadata": {
        "id": "n8PYquf-vde3"
      }
    },
    {
      "cell_type": "code",
      "source": [],
      "metadata": {
        "id": "LMueyRjHw9tQ"
      },
      "execution_count": null,
      "outputs": []
    },
    {
      "cell_type": "markdown",
      "source": [
        "# Practical Questions"
      ],
      "metadata": {
        "id": "x6rimyzww-kJ"
      }
    },
    {
      "cell_type": "markdown",
      "source": [
        "1. How can you open a file for writing in Python and write a string to it?"
      ],
      "metadata": {
        "id": "wyhEobcrxfBD"
      }
    },
    {
      "cell_type": "code",
      "source": [
        "with open(\"example.txt\", \"w\") as f:\n",
        "    f.write(\"Hello, this is a test string.\")\n"
      ],
      "metadata": {
        "id": "xRSRpCVyxEmS"
      },
      "execution_count": 1,
      "outputs": []
    },
    {
      "cell_type": "markdown",
      "source": [
        "2. Write a Python program to read the contents of a file and print each line."
      ],
      "metadata": {
        "id": "JrlqUJc1xoRx"
      }
    },
    {
      "cell_type": "code",
      "source": [
        "with open(\"example.txt\", \"r\") as f:\n",
        "    for line in f:\n",
        "        print(line.strip())\n"
      ],
      "metadata": {
        "colab": {
          "base_uri": "https://localhost:8080/"
        },
        "id": "fYEUPA7JxemT",
        "outputId": "55c321c6-699f-4ba0-e700-a550ed74f78c"
      },
      "execution_count": 15,
      "outputs": [
        {
          "output_type": "stream",
          "name": "stdout",
          "text": [
            "Hello, this is a test string.\n",
            "New line of text.\n"
          ]
        }
      ]
    },
    {
      "cell_type": "markdown",
      "source": [
        "3. How would you handle a case where the file doesn't exist while trying to open it for reading?"
      ],
      "metadata": {
        "id": "GLsUEHfExvIw"
      }
    },
    {
      "cell_type": "code",
      "source": [
        "try:\n",
        "    with open(\"nofile.txt\", \"r\") as f:\n",
        "        print(f.read())\n",
        "except FileNotFoundError:\n",
        "    print(\"File not found!\")\n"
      ],
      "metadata": {
        "colab": {
          "base_uri": "https://localhost:8080/"
        },
        "id": "HrW2NK7_xyix",
        "outputId": "404e6f70-4c86-4310-ced4-dd9788e42fa7"
      },
      "execution_count": 14,
      "outputs": [
        {
          "output_type": "stream",
          "name": "stdout",
          "text": [
            "File not found!\n"
          ]
        }
      ]
    },
    {
      "cell_type": "markdown",
      "source": [
        "4. Write a Python script that reads from one file and writes its content to another file."
      ],
      "metadata": {
        "id": "Kl0eZ0Bzx13A"
      }
    },
    {
      "cell_type": "code",
      "source": [
        "with open(\"source.txt\", \"r\") as src, open(\"target.txt\", \"w\") as tgt:\n",
        "    for line in src:\n",
        "        tgt.write(line)"
      ],
      "metadata": {
        "id": "QfN_20J-zTaI"
      },
      "execution_count": null,
      "outputs": []
    },
    {
      "cell_type": "markdown",
      "source": [
        "5. How would you catch and handle division by zero error in Python?"
      ],
      "metadata": {
        "id": "L4fqn5yqx8wp"
      }
    },
    {
      "cell_type": "code",
      "source": [
        "try:\n",
        "    result = 10 / 0\n",
        "except ZeroDivisionError:\n",
        "    print(\"You can’t divide by zero!\")\n"
      ],
      "metadata": {
        "colab": {
          "base_uri": "https://localhost:8080/"
        },
        "id": "B3NvlxT_yART",
        "outputId": "909609b2-7e2f-4ed1-8978-6d9adf0fb569"
      },
      "execution_count": 12,
      "outputs": [
        {
          "output_type": "stream",
          "name": "stdout",
          "text": [
            "You can’t divide by zero!\n"
          ]
        }
      ]
    },
    {
      "cell_type": "markdown",
      "source": [
        "6. Write a Python program that logs an error message to a log file when a division by zero exception occurs."
      ],
      "metadata": {
        "id": "wPtYnLAMyCu9"
      }
    },
    {
      "cell_type": "code",
      "source": [
        "import logging\n",
        "\n",
        "logging.basicConfig(filename=\"errors.log\", level=logging.ERROR)\n",
        "\n",
        "try:\n",
        "    result = 10 / 0\n",
        "except ZeroDivisionError as e:\n",
        "    logging.error(\"Division by zero error: %s\", e)\n"
      ],
      "metadata": {
        "colab": {
          "base_uri": "https://localhost:8080/"
        },
        "id": "JdwQixvdyFa8",
        "outputId": "a89db7cc-8c3f-4eb3-e25c-494c0469884e"
      },
      "execution_count": 11,
      "outputs": [
        {
          "output_type": "stream",
          "name": "stderr",
          "text": [
            "ERROR:root:Division by zero error: division by zero\n"
          ]
        }
      ]
    },
    {
      "cell_type": "markdown",
      "source": [
        "7. How do you log information at different levels (INFO, ERROR, WARNING) in Python using the logging module?"
      ],
      "metadata": {
        "id": "oSdlLwCUyJOn"
      }
    },
    {
      "cell_type": "code",
      "source": [
        "import logging\n",
        "logging.basicConfig(level=logging.DEBUG)\n",
        "\n",
        "logging.info(\"This is an info message.\")\n",
        "logging.warning(\"This is a warning message.\")\n",
        "logging.error(\"This is an error message.\")\n"
      ],
      "metadata": {
        "colab": {
          "base_uri": "https://localhost:8080/"
        },
        "collapsed": true,
        "id": "wPc7YkfqyNtf",
        "outputId": "e6dd041b-dce9-476a-f8b9-3fb0f3bb11cb"
      },
      "execution_count": 4,
      "outputs": [
        {
          "output_type": "stream",
          "name": "stderr",
          "text": [
            "WARNING:root:This is a warning message.\n",
            "ERROR:root:This is an error message.\n"
          ]
        }
      ]
    },
    {
      "cell_type": "markdown",
      "source": [
        "8. Write a program to handle a file opening error using exception handling."
      ],
      "metadata": {
        "id": "pMPO7YdZybbj"
      }
    },
    {
      "cell_type": "code",
      "source": [
        "try:\n",
        "    with open(\"missing.txt\", \"r\") as f:\n",
        "        data = f.read()\n",
        "except FileNotFoundError:\n",
        "    print(\"The file does not exist.\")\n"
      ],
      "metadata": {
        "colab": {
          "base_uri": "https://localhost:8080/"
        },
        "id": "T3DHXM0HycnP",
        "outputId": "ea7afe9a-07df-427f-de39-ef2030cc5fa6"
      },
      "execution_count": 10,
      "outputs": [
        {
          "output_type": "stream",
          "name": "stdout",
          "text": [
            "The file does not exist.\n"
          ]
        }
      ]
    },
    {
      "cell_type": "markdown",
      "source": [
        "9. How can you read a file line by line and store its content in a list in Python?"
      ],
      "metadata": {
        "id": "KgQkJSKeye9O"
      }
    },
    {
      "cell_type": "code",
      "source": [
        "with open(\"example.txt\", \"r\") as f:\n",
        "    lines = f.readlines()\n",
        "\n",
        "print(lines)\n"
      ],
      "metadata": {
        "colab": {
          "base_uri": "https://localhost:8080/"
        },
        "id": "BTZsTPeoyidC",
        "outputId": "088abe69-fb2f-4e65-c215-12fa10871069"
      },
      "execution_count": 9,
      "outputs": [
        {
          "output_type": "stream",
          "name": "stdout",
          "text": [
            "['Hello, this is a test string.\\n', 'New line of text.']\n"
          ]
        }
      ]
    },
    {
      "cell_type": "markdown",
      "source": [
        "10. How can you append data to an existing file in Python?"
      ],
      "metadata": {
        "id": "-GQZjyuZynBH"
      }
    },
    {
      "cell_type": "code",
      "source": [
        "with open(\"example.txt\", \"a\") as f:\n",
        "    f.write(\"\\nNew line of text.\")\n"
      ],
      "metadata": {
        "id": "v8M-nNJ3yrAn"
      },
      "execution_count": 8,
      "outputs": []
    },
    {
      "cell_type": "markdown",
      "source": [
        "11. Write a Python program that uses a try-except block to handle an error when attempting to access a dictionary key that doesn't exist."
      ],
      "metadata": {
        "id": "A1QtenEVytkE"
      }
    },
    {
      "cell_type": "code",
      "source": [
        "data = {\"name\": \"Simar\"}\n",
        "try:\n",
        "    print(data[\"age\"])\n",
        "except KeyError:\n",
        "    print(\"Key not found in dictionary.\")\n"
      ],
      "metadata": {
        "colab": {
          "base_uri": "https://localhost:8080/"
        },
        "id": "_ZF4anZVywxz",
        "outputId": "fdb1ab7d-5fb5-444f-d4bf-0c62ac37ea3d"
      },
      "execution_count": 7,
      "outputs": [
        {
          "output_type": "stream",
          "name": "stdout",
          "text": [
            "Key not found in dictionary.\n"
          ]
        }
      ]
    },
    {
      "cell_type": "markdown",
      "source": [
        "12. Write a program that demonstrates using multiple except blocks to handle different types of exceptions."
      ],
      "metadata": {
        "id": "ajL9CUYMy0Tt"
      }
    },
    {
      "cell_type": "code",
      "source": [
        "try:\n",
        "    num = int(\"abc\")\n",
        "    print(10 / 0)\n",
        "except ValueError:\n",
        "    print(\"Invalid conversion to integer.\")\n",
        "except ZeroDivisionError:\n",
        "    print(\"Cannot divide by zero.\")\n"
      ],
      "metadata": {
        "colab": {
          "base_uri": "https://localhost:8080/"
        },
        "id": "GpS2z9Jhy3d2",
        "outputId": "a43b0dae-2460-4818-cff3-75c2838fab1c"
      },
      "execution_count": 6,
      "outputs": [
        {
          "output_type": "stream",
          "name": "stdout",
          "text": [
            "Invalid conversion to integer.\n"
          ]
        }
      ]
    },
    {
      "cell_type": "markdown",
      "source": [
        "13. How would you check if a file exists before attempting to read it in Python?"
      ],
      "metadata": {
        "id": "k7FdeHoiy9ci"
      }
    },
    {
      "cell_type": "code",
      "source": [
        "import os\n",
        "\n",
        "if os.path.exists(\"example.txt\"):\n",
        "    with open(\"example.txt\", \"r\") as f:\n",
        "        print(f.read())\n",
        "else:\n",
        "    print(\"File does not exist.\")\n"
      ],
      "metadata": {
        "colab": {
          "base_uri": "https://localhost:8080/"
        },
        "id": "Y29V7YrIzAeA",
        "outputId": "e38f98a0-86a1-471f-be73-d6441cc16c7d"
      },
      "execution_count": 5,
      "outputs": [
        {
          "output_type": "stream",
          "name": "stdout",
          "text": [
            "Hello, this is a test string.\n"
          ]
        }
      ]
    },
    {
      "cell_type": "markdown",
      "source": [
        "14. Write a program that uses the logging module to log both informational and error messages."
      ],
      "metadata": {
        "id": "BlSeicrMzZDC"
      }
    },
    {
      "cell_type": "code",
      "source": [
        "import logging\n",
        "logging.basicConfig(filename=\"app.log\", level=logging.INFO)\n",
        "\n",
        "logging.info(\"Program started successfully.\")\n",
        "try:\n",
        "    x = 1 / 0\n",
        "except ZeroDivisionError:\n",
        "    logging.error(\"Error occurred: division by zero.\")\n"
      ],
      "metadata": {
        "id": "d9b3UHLIzhu5"
      },
      "execution_count": null,
      "outputs": []
    },
    {
      "cell_type": "markdown",
      "source": [
        "15. Write a Python program that prints the content of a file and handles the case when the file is empty."
      ],
      "metadata": {
        "id": "UsyEyQXkzmri"
      }
    },
    {
      "cell_type": "code",
      "source": [
        "with open(\"example.txt\", \"r\") as f:\n",
        "    content = f.read()\n",
        "    if content.strip() == \"\":\n",
        "        print(\"File is empty.\")\n",
        "    else:\n",
        "        print(content)\n"
      ],
      "metadata": {
        "id": "eRNU3Hh2zkIe"
      },
      "execution_count": null,
      "outputs": []
    },
    {
      "cell_type": "markdown",
      "source": [
        "16. Demonstrate how to use memory profiling to check the memory usage of a small program."
      ],
      "metadata": {
        "id": "gMYwRnpDzsrE"
      }
    },
    {
      "cell_type": "code",
      "source": [
        "from memory_profiler import profile\n",
        "\n",
        "@profile\n",
        "def func():\n",
        "    a = [i for i in range(10000)]\n",
        "    return sum(a)\n",
        "\n",
        "func()\n"
      ],
      "metadata": {
        "id": "KWfpe4azzvuu"
      },
      "execution_count": null,
      "outputs": []
    },
    {
      "cell_type": "markdown",
      "source": [
        "17. Write a Python program to create and write a list of numbers to a file, one number per line."
      ],
      "metadata": {
        "id": "gVvA8bXzzx8m"
      }
    },
    {
      "cell_type": "code",
      "source": [
        "numbers = [1, 2, 3, 4, 5]\n",
        "with open(\"numbers.txt\", \"w\") as f:\n",
        "    for num in numbers:\n",
        "        f.write(str(num) + \"\\n\")\n"
      ],
      "metadata": {
        "id": "ldM3Hecb0E52"
      },
      "execution_count": null,
      "outputs": []
    },
    {
      "cell_type": "markdown",
      "source": [
        "18. How would you implement a basic logging setup that logs to a file with rotation after 1MB?"
      ],
      "metadata": {
        "id": "Zrf4pdC1z_tm"
      }
    },
    {
      "cell_type": "code",
      "source": [
        "import logging\n",
        "from logging.handlers import RotatingFileHandler\n",
        "\n",
        "handler = RotatingFileHandler(\"app.log\", maxBytes=1*1024*1024, backupCount=3)\n",
        "logging.basicConfig(handlers=[handler], level=logging.INFO)\n",
        "\n",
        "logging.info(\"This will be logged with rotation.\")\n"
      ],
      "metadata": {
        "id": "ZTuJnKDLz3qV"
      },
      "execution_count": null,
      "outputs": []
    },
    {
      "cell_type": "markdown",
      "source": [
        "19. Write a program that handles both IndexError and KeyError using a try-except block."
      ],
      "metadata": {
        "id": "z15Afz6m0K6I"
      }
    },
    {
      "cell_type": "code",
      "source": [
        "data = {\"a\": 10}\n",
        "lst = [1, 2, 3]\n",
        "\n",
        "try:\n",
        "    print(lst[5])\n",
        "    print(data[\"b\"])\n",
        "except IndexError:\n",
        "    print(\"List index out of range.\")\n",
        "except KeyError:\n",
        "    print(\"Dictionary key not found.\")\n"
      ],
      "metadata": {
        "id": "UqLc5T8B0NzZ"
      },
      "execution_count": null,
      "outputs": []
    },
    {
      "cell_type": "markdown",
      "source": [
        "20. How would you open a file and read its contents using a context manager in Python?"
      ],
      "metadata": {
        "id": "yvdtQm400SPE"
      }
    },
    {
      "cell_type": "code",
      "source": [
        "with open(\"example.txt\", \"r\") as f:\n",
        "    print(f.read())\n"
      ],
      "metadata": {
        "id": "PXcDe7R-0Yco"
      },
      "execution_count": null,
      "outputs": []
    },
    {
      "cell_type": "markdown",
      "source": [
        "21. Write a Python program that reads a file and prints the number of occurrences of a specific word."
      ],
      "metadata": {
        "id": "Xyr88qXa0ba2"
      }
    },
    {
      "cell_type": "code",
      "source": [
        "word = \"Python\"\n",
        "count = 0\n",
        "with open(\"example.txt\", \"r\") as f:\n",
        "    for line in f:\n",
        "        count += line.split().count(word)\n",
        "\n",
        "print(f\"The word '{word}' occurs {count} times.\")\n"
      ],
      "metadata": {
        "id": "21J0CqrZ0fr_"
      },
      "execution_count": null,
      "outputs": []
    },
    {
      "cell_type": "markdown",
      "source": [
        "22. How can you check if a file is empty before attempting to read its contents?"
      ],
      "metadata": {
        "id": "-LBRB_iV0iZ_"
      }
    },
    {
      "cell_type": "code",
      "source": [
        "import os\n",
        "\n",
        "if os.path.getsize(\"example.txt\") == 0:\n",
        "    print(\"File is empty.\")\n",
        "else:\n",
        "    with open(\"example.txt\", \"r\") as f:\n",
        "        print(f.read())\n"
      ],
      "metadata": {
        "id": "B_fw-qTB0leo"
      },
      "execution_count": null,
      "outputs": []
    },
    {
      "cell_type": "markdown",
      "source": [
        "23. Write a Python program that writes to a log file when an error occurs during file handling."
      ],
      "metadata": {
        "id": "UJl8_02y0oXD"
      }
    },
    {
      "cell_type": "code",
      "source": [
        "import logging\n",
        "logging.basicConfig(filename=\"file_errors.log\", level=logging.ERROR)\n",
        "\n",
        "try:\n",
        "    with open(\"nofile.txt\", \"r\") as f:\n",
        "        print(f.read())\n",
        "except FileNotFoundError as e:\n",
        "    logging.error(\"File handling error: %s\", e)\n"
      ],
      "metadata": {
        "id": "_JVL8lu70rM2"
      },
      "execution_count": null,
      "outputs": []
    }
  ]
}